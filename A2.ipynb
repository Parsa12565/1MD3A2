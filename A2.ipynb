{
 "cells": [
  {
   "cell_type": "code",
   "execution_count": null,
   "metadata": {},
   "outputs": [],
   "source": [
    "### Lab 2 Assigned Sunday Sept 27 , Due Sunday October 4th at 11:59PM\n",
    "### Maximum grade: 33 / 29\n",
    "\n",
    "The purpose of this lab is to:\n",
    "\n",
    "* Work with strings\n",
    "* Practice writing if statements\n",
    "* Become comfortable writing `while` loops\n",
    "\n",
    "\n",
    "You are supposed to download this notebook, embed your answers to the questions in the cells below, and submit it through JupyterHub.  "
   ]
  },
  {
   "cell_type": "markdown",
   "metadata": {},
   "source": [
    "### Practice Question: Counting Vowels (0 points)\n",
    "\n",
    "This question is not worth marks, and completion is optional.\n",
    "\n",
    "Write a Python function, countVowels(s) that counts the number of vowels in a given string."
   ]
  },
  {
   "cell_type": "code",
   "execution_count": 67,
   "metadata": {},
   "outputs": [],
   "source": [
    "def vowelsCount(s):\n",
    "    v=0\n",
    "    for c in s:\n",
    "        if c=='a' or c=='e' or c=='i' or c=='o' or c=='u' or c=='A' or c=='E' or c=='I' or c=='O' or c=='U':\n",
    "           v+=1\n",
    "    return v"
   ]
  },
  {
   "cell_type": "code",
   "execution_count": 68,
   "metadata": {},
   "outputs": [
    {
     "data": {
      "text/plain": [
       "True"
      ]
     },
     "execution_count": 68,
     "metadata": {},
     "output_type": "execute_result"
    }
   ],
   "source": [
    "vowelsCount(\"Was it a car or a cat I saw?\") == 9"
   ]
  },
  {
   "cell_type": "code",
   "execution_count": 69,
   "metadata": {},
   "outputs": [
    {
     "data": {
      "text/plain": [
       "True"
      ]
     },
     "execution_count": 69,
     "metadata": {},
     "output_type": "execute_result"
    }
   ],
   "source": [
    "vowelsCount(\"\") == 0"
   ]
  },
  {
   "cell_type": "markdown",
   "metadata": {},
   "source": [
    "### Question 1: Prohibited Character in a String (2 points)\n",
    "\n",
    "Occasionally, we might want to restrict what characters a person can enter into a program--for instance, file names cannot contain `/` on Unix systems (as these are used to separate paths), and many websites will not allow you to put spaces in your passwords.\n",
    "\n",
    "Write a program that, given a string, `s`, and a single character, `c`, determines if the string is valid (that is, string `s` does not contain the exact character `c`). Your program should return `False` if `c` is in `s`, and `True` otherwise."
   ]
  },
  {
   "cell_type": "code",
   "execution_count": 70,
   "metadata": {
    "deletable": false,
    "nbgrader": {
     "cell_type": "code",
     "checksum": "2891b3f2e31e70d74d11f4f752dd08c9",
     "grade": false,
     "grade_id": "cell-2e3dd2ef5f7381e9",
     "locked": false,
     "schema_version": 3,
     "solution": true
    }
   },
   "outputs": [],
   "source": [
    "def prohibitedCharacter(s, c):\n",
    "    ans=True\n",
    "    for i in s:\n",
    "        if i==c:\n",
    "            ans=False\n",
    "    return ans\n",
    "    \n",
    "    raise NotImplementedError()"
   ]
  },
  {
   "cell_type": "code",
   "execution_count": 71,
   "metadata": {},
   "outputs": [
    {
     "name": "stdout",
     "output_type": "stream",
     "text": [
      "#1 True\n",
      "#2 True\n",
      "#3 True\n"
     ]
    }
   ],
   "source": [
    "# Your Provided Sample Test Cases\n",
    "print(\"#1\", prohibitedCharacter('I\\'d like to teach the world to sing!', 'T') == True) #notice it is case sensitive\n",
    "print(\"#2\", prohibitedCharacter('www.cas.mcmaster.ca', '$') == True)\n",
    "print(\"#3\", prohibitedCharacter('tom_cruise!@mcmaster.ca', '!') == False)\n"
   ]
  },
  {
   "cell_type": "code",
   "execution_count": null,
   "metadata": {
    "deletable": false,
    "editable": false,
    "nbgrader": {
     "cell_type": "code",
     "checksum": "85fbdcc9448012553eabdcce396970d0",
     "grade": true,
     "grade_id": "cell-0c023108572df877",
     "locked": true,
     "points": 1,
     "schema_version": 3,
     "solution": false
    }
   },
   "outputs": [],
   "source": []
  },
  {
   "cell_type": "code",
   "execution_count": null,
   "metadata": {
    "deletable": false,
    "editable": false,
    "nbgrader": {
     "cell_type": "code",
     "checksum": "5aad43016ce3f913f3f2c358dc0e2a70",
     "grade": true,
     "grade_id": "cell-cd23b1f6d2f95e3e",
     "locked": true,
     "points": 1,
     "schema_version": 3,
     "solution": false
    }
   },
   "outputs": [],
   "source": []
  },
  {
   "cell_type": "markdown",
   "metadata": {},
   "source": [
    "### Question 2: Sum of a Series (4 points)\n",
    "\n",
    "The value of $(1^2 + 2^2 + … + n^2) / n^3$ is always greater than $1/3$ for any $n ≥ 1$ and as $n$ grows, the value gets closer to $1/3$. Write a Python function `onethird(n)` that returns a floating-point number which reproduces this formula."
   ]
  },
  {
   "cell_type": "code",
   "execution_count": 72,
   "metadata": {
    "deletable": false,
    "nbgrader": {
     "cell_type": "code",
     "checksum": "4454bd6723d1fa772a672084b7c6d1b9",
     "grade": false,
     "grade_id": "cell-5f2d29080c6305a3",
     "locked": false,
     "schema_version": 3,
     "solution": true
    }
   },
   "outputs": [],
   "source": [
    "def onethird(n):\n",
    "    ans=0\n",
    "    for i in range(n):\n",
    "        ans+=(i+1)**2\n",
    "    ans/=n**3\n",
    "    return ans\n",
    "    \n",
    "    raise NotImplementedError()"
   ]
  },
  {
   "cell_type": "code",
   "execution_count": 73,
   "metadata": {},
   "outputs": [
    {
     "name": "stdout",
     "output_type": "stream",
     "text": [
      "#1 True\n",
      "#2 True\n",
      "#3 True\n"
     ]
    }
   ],
   "source": [
    "# Your Provided Sample Test Cases\n",
    "print(\"#1\", onethird(1) == 1.0)\n",
    "print(\"#2\", round(onethird(3),6) == 0.518519)\n",
    "print(\"#3\", round(onethird(5),6) == 0.44)"
   ]
  },
  {
   "cell_type": "code",
   "execution_count": null,
   "metadata": {
    "deletable": false,
    "editable": false,
    "nbgrader": {
     "cell_type": "code",
     "checksum": "013821a06881da9a0a7f4cad1eb5e5c8",
     "grade": true,
     "grade_id": "cell-3aefe5b483a5b241",
     "locked": true,
     "points": 1,
     "schema_version": 3,
     "solution": false
    }
   },
   "outputs": [],
   "source": []
  },
  {
   "cell_type": "code",
   "execution_count": null,
   "metadata": {
    "deletable": false,
    "editable": false,
    "nbgrader": {
     "cell_type": "code",
     "checksum": "87f800cfa8221a3c8430b3a9a883be2f",
     "grade": true,
     "grade_id": "cell-ecb6748b60c4ee74",
     "locked": true,
     "points": 1,
     "schema_version": 3,
     "solution": false
    }
   },
   "outputs": [],
   "source": []
  },
  {
   "cell_type": "code",
   "execution_count": null,
   "metadata": {
    "deletable": false,
    "editable": false,
    "nbgrader": {
     "cell_type": "code",
     "checksum": "38bcdbb6921fe64ac15fc4d63b4883fa",
     "grade": true,
     "grade_id": "cell-1a1df13bc040bd68",
     "locked": true,
     "points": 1,
     "schema_version": 3,
     "solution": false,
     "task": false
    }
   },
   "outputs": [],
   "source": []
  },
  {
   "cell_type": "code",
   "execution_count": null,
   "metadata": {
    "deletable": false,
    "editable": false,
    "nbgrader": {
     "cell_type": "code",
     "checksum": "5ae822b093e3e9a90a055a9b4edb2d61",
     "grade": true,
     "grade_id": "cell-cbabcdea97560015",
     "locked": true,
     "points": 1,
     "schema_version": 3,
     "solution": false,
     "task": false
    }
   },
   "outputs": [],
   "source": []
  },
  {
   "cell_type": "markdown",
   "metadata": {},
   "source": [
    "### Question 3a (4 points)\n",
    "\n",
    "Inky, Blinky, Pinky and Clyde are going to the local arcade, but they have overly complicated rules for determining who gets to play pinball for the day.\n",
    "\n",
    "* Every day there is only one person playing.\n",
    "* Inky gets to play pinball on days that start with the letter \"T\". \n",
    "* Blinky gets to play pinball on days that follow days that start with the letter S.\n",
    "* Pinky __always__ gets to play pinball on a day of the month divisible by 4, regardless of what day of the week it is.\n",
    "* Clyde only gets to play pinball if both Inky and Blinky have already played that week, and if Pinky does not get to play that day. \n",
    "\n",
    "\n",
    "Write a python function which takes two arguments (the day of the week in string format and the day of the month in numerical format) and returns the name of the person that gets to play pinball that day. (The start of a week is Sunday.)"
   ]
  },
  {
   "cell_type": "code",
   "execution_count": 74,
   "metadata": {
    "deletable": false,
    "nbgrader": {
     "cell_type": "code",
     "checksum": "550cf3c3989c4a9ce7e8708dda21aadf",
     "grade": false,
     "grade_id": "cell-866d87bf1b27f005",
     "locked": false,
     "schema_version": 3,
     "solution": true
    }
   },
   "outputs": [],
   "source": [
    "def pinball(dayOfWeek, dayOfMonth) :\n",
    "    if dayOfMonth%4==0:\n",
    "        ans=\"Pinky\"\n",
    "    elif dayOfWeek[0]=='T':\n",
    "        ans=\"Inky\"\n",
    "    elif dayOfWeek==\"Monday\" or dayOfWeek==\"Sunday\":\n",
    "        ans=\"Blinky\"\n",
    "    else:\n",
    "        ans=\"Clyde\"\n",
    "    return ans\n",
    "    \n",
    "    raise NotImplementedError()"
   ]
  },
  {
   "cell_type": "code",
   "execution_count": 75,
   "metadata": {},
   "outputs": [
    {
     "name": "stdout",
     "output_type": "stream",
     "text": [
      "#1 True\n",
      "#2 True\n",
      "#3 True\n"
     ]
    }
   ],
   "source": [
    "# Your Provided Sample Test Cases\n",
    "print(\"#1\", pinball(\"Sunday\",31) == \"Blinky\")\n",
    "print(\"#2\", pinball(\"Wednesday\",28) == \"Pinky\")\n",
    "print(\"#3\", pinball(\"Friday\",15) == \"Clyde\")"
   ]
  },
  {
   "cell_type": "code",
   "execution_count": null,
   "metadata": {
    "deletable": false,
    "editable": false,
    "nbgrader": {
     "cell_type": "code",
     "checksum": "ecf0a0035d0eefbc5da1e3a40434dd9c",
     "grade": true,
     "grade_id": "cell-e187b7fc6aea7cef",
     "locked": true,
     "points": 1,
     "schema_version": 3,
     "solution": false
    }
   },
   "outputs": [],
   "source": []
  },
  {
   "cell_type": "code",
   "execution_count": null,
   "metadata": {
    "deletable": false,
    "editable": false,
    "nbgrader": {
     "cell_type": "code",
     "checksum": "9db196e5f4f777881a97d34628709368",
     "grade": true,
     "grade_id": "cell-d739af9c4a504adc",
     "locked": true,
     "points": 1,
     "schema_version": 3,
     "solution": false
    }
   },
   "outputs": [],
   "source": []
  },
  {
   "cell_type": "code",
   "execution_count": null,
   "metadata": {
    "deletable": false,
    "editable": false,
    "nbgrader": {
     "cell_type": "code",
     "checksum": "1d1a014480c2401eaf3f7c5f2697a892",
     "grade": true,
     "grade_id": "cell-51076d496bba229c",
     "locked": true,
     "points": 1,
     "schema_version": 3,
     "solution": false
    }
   },
   "outputs": [],
   "source": []
  },
  {
   "cell_type": "code",
   "execution_count": null,
   "metadata": {
    "deletable": false,
    "editable": false,
    "nbgrader": {
     "cell_type": "code",
     "checksum": "7a84fce640f2357091eac92cf9ea2616",
     "grade": true,
     "grade_id": "cell-a9cdb0f4637ae5fa",
     "locked": true,
     "points": 1,
     "schema_version": 3,
     "solution": false
    }
   },
   "outputs": [],
   "source": []
  },
  {
   "cell_type": "markdown",
   "metadata": {},
   "source": [
    "### Question 3b (4 points)\n",
    "\n",
    "Using the function you wrote in part 3a), write another function that, given the day that the month starts on and the number of days in that given month, returns the number of days that Inky, Blinky, Pinky and Clyde will get to play pinball in that month. Your function should return a tuple of integers with the respective signature ordering (Inky,Blinky,Pinky,Clyde).\n",
    "\n",
    "The function provided will increment the day of the week to the next correct day.  Use it wisely! "
   ]
  },
  {
   "cell_type": "code",
   "execution_count": 76,
   "metadata": {
    "deletable": false,
    "nbgrader": {
     "cell_type": "code",
     "checksum": "3424b4e0049585cacd1c1ea652ae1d14",
     "grade": false,
     "grade_id": "cell-3ec020299022d86f",
     "locked": false,
     "schema_version": 3,
     "solution": true
    }
   },
   "outputs": [],
   "source": [
    "def incDay(day) :\n",
    "    if (day == \"Sunday\") :\n",
    "        return \"Monday\"\n",
    "    elif (day == \"Monday\") :\n",
    "        return \"Tuesday\"\n",
    "    elif (day == \"Tuesday\") :\n",
    "        return \"Wednesday\"\n",
    "    elif (day == \"Wednesday\") :\n",
    "        return \"Thursday\"\n",
    "    elif (day == \"Thursday\") :\n",
    "        return \"Friday\"\n",
    "    elif (day == \"Friday\") :\n",
    "        return \"Saturday\"\n",
    "    elif (day == \"Saturday\") :\n",
    "        return \"Sunday\"\n",
    "    \n",
    "\n",
    "def playCount(startingDay, daysInMonth):\n",
    "    ink,bli,pin,cly=0,0,0,0\n",
    "    for i in range(daysInMonth):\n",
    "        player=pinball(startingDay,i+1)\n",
    "        if player==\"Inky\":\n",
    "            ink+=1\n",
    "        elif player==\"Blinky\":\n",
    "            bli+=1\n",
    "        elif player==\"Pinky\":\n",
    "            pin+=1\n",
    "        else:\n",
    "            cly+=1\n",
    "        startingDay=incDay(startingDay)\n",
    "    ans=(ink,bli,pin,cly)\n",
    "    return ans\n",
    "\n",
    "    raise NotImplementedError()"
   ]
  },
  {
   "cell_type": "code",
   "execution_count": 77,
   "metadata": {},
   "outputs": [
    {
     "name": "stdout",
     "output_type": "stream",
     "text": [
      "#1 True\n",
      "#2 True\n",
      "#3 True\n"
     ]
    }
   ],
   "source": [
    "# Your Provided Sample Test Cases\n",
    "print(\"#1\", playCount(\"Sunday\",31) == (7,8,7,9))\n",
    "print(\"#2\", playCount(\"Wednesday\",30) == (7,6,7,10))\n",
    "print(\"#3\", playCount(\"Wednesday\",0) == (0,0,0,0)) \n",
    "# Obviously there does not exist a month with 0 days, but that should not stop your function from behaving correctly"
   ]
  },
  {
   "cell_type": "code",
   "execution_count": null,
   "metadata": {
    "deletable": false,
    "editable": false,
    "nbgrader": {
     "cell_type": "code",
     "checksum": "ca6bd8c4570db4cf2a033465d3492308",
     "grade": true,
     "grade_id": "cell-758ceebf70cc4148",
     "locked": true,
     "points": 1,
     "schema_version": 3,
     "solution": false
    }
   },
   "outputs": [],
   "source": []
  },
  {
   "cell_type": "code",
   "execution_count": null,
   "metadata": {
    "deletable": false,
    "editable": false,
    "nbgrader": {
     "cell_type": "code",
     "checksum": "55b9e0e4c3591bcf7cb759cf9e66fbba",
     "grade": true,
     "grade_id": "cell-ced858821876f47b",
     "locked": true,
     "points": 1,
     "schema_version": 3,
     "solution": false,
     "task": false
    }
   },
   "outputs": [],
   "source": []
  },
  {
   "cell_type": "code",
   "execution_count": null,
   "metadata": {
    "deletable": false,
    "editable": false,
    "nbgrader": {
     "cell_type": "code",
     "checksum": "524c4145f28c6e7560fd8edd9a3ee7bc",
     "grade": true,
     "grade_id": "cell-9bc225e5fe7e0662",
     "locked": true,
     "points": 1,
     "schema_version": 3,
     "solution": false
    }
   },
   "outputs": [],
   "source": []
  },
  {
   "cell_type": "code",
   "execution_count": null,
   "metadata": {
    "deletable": false,
    "editable": false,
    "nbgrader": {
     "cell_type": "code",
     "checksum": "b34b8078dc52569685b8eda98cfec3fb",
     "grade": true,
     "grade_id": "cell-455ed310e3ba5b0a",
     "locked": true,
     "points": 1,
     "schema_version": 3,
     "solution": false
    }
   },
   "outputs": [],
   "source": []
  },
  {
   "cell_type": "markdown",
   "metadata": {},
   "source": [
    "### Question 3c:  (1 point)\n",
    "\n",
    "Who gets to play the most pinball on any given month?"
   ]
  },
  {
   "cell_type": "code",
   "execution_count": 78,
   "metadata": {
    "deletable": false,
    "nbgrader": {
     "cell_type": "code",
     "checksum": "63ca3cedbf8d1eced085b3cce3f36ce7",
     "grade": false,
     "grade_id": "cell-d87710ac818da0a6",
     "locked": false,
     "schema_version": 3,
     "solution": true
    }
   },
   "outputs": [],
   "source": [
    "def question3c ():\n",
    "    # ans = \"Inky\"\n",
    "    # ans = \"Blinky\"\n",
    "    # ans = \"Pinky\"\n",
    "    ans = \"Clyde\"\n",
    "    return ans\n",
    "    \n",
    "    raise NotImplementedError()\n",
    "    "
   ]
  },
  {
   "cell_type": "code",
   "execution_count": null,
   "metadata": {
    "deletable": false,
    "editable": false,
    "nbgrader": {
     "cell_type": "code",
     "checksum": "32a41a076e57164d463d4bef1112ca07",
     "grade": true,
     "grade_id": "cell-2ae15c7f160672fd",
     "locked": true,
     "points": 1,
     "schema_version": 3,
     "solution": false
    }
   },
   "outputs": [],
   "source": []
  },
  {
   "cell_type": "markdown",
   "metadata": {},
   "source": [
    "### Question 4a: Letter Grade (2 points)\n",
    "\n",
    "McMaster is considering a radical new grading scheme (not really) --only scores of 95 or above are ranked A, a score of 85 or above is a B, a score of 60 or above is a C, a score of 40 or above is a D, and anything below 40 is an F.\n",
    "\n",
    "Write a Python function `letterGrade(score)` that takes a numeric score between 0 and 100 and returns the corresponding letter grade."
   ]
  },
  {
   "cell_type": "code",
   "execution_count": 79,
   "metadata": {
    "deletable": false,
    "nbgrader": {
     "cell_type": "code",
     "checksum": "aed91728dd757326cbe6b4d02a432d0a",
     "grade": false,
     "grade_id": "cell-d0f7a4bd5d462395",
     "locked": false,
     "schema_version": 3,
     "solution": true
    }
   },
   "outputs": [],
   "source": [
    "def letterGrade(score):    \n",
    "    if score>=95:\n",
    "        ans='A'\n",
    "    elif score>=85:\n",
    "        ans='B'\n",
    "    elif score>=60:\n",
    "        ans='C'\n",
    "    elif score>=40:\n",
    "        ans='D'\n",
    "    else:\n",
    "        ans='F'\n",
    "    return ans\n",
    "\n",
    "    raise NotImplementedError()"
   ]
  },
  {
   "cell_type": "code",
   "execution_count": 80,
   "metadata": {},
   "outputs": [
    {
     "name": "stdout",
     "output_type": "stream",
     "text": [
      "#1 True\n",
      "#2 True\n",
      "#3 True\n"
     ]
    }
   ],
   "source": [
    "# Your Provided Sample Test Cases\n",
    "print(\"#1\", letterGrade(31) == 'F')\n",
    "print(\"#2\", letterGrade(50) == 'D')\n",
    "print(\"#3\", letterGrade(100) == 'A') "
   ]
  },
  {
   "cell_type": "code",
   "execution_count": null,
   "metadata": {
    "deletable": false,
    "editable": false,
    "nbgrader": {
     "cell_type": "code",
     "checksum": "c25391dd310b34d44b776247c7237822",
     "grade": true,
     "grade_id": "cell-591af7067f612f23",
     "locked": true,
     "points": 1,
     "schema_version": 3,
     "solution": false
    }
   },
   "outputs": [],
   "source": []
  },
  {
   "cell_type": "code",
   "execution_count": null,
   "metadata": {
    "deletable": false,
    "editable": false,
    "nbgrader": {
     "cell_type": "code",
     "checksum": "3ef50f129c1f5fb78070e8415efa5c83",
     "grade": true,
     "grade_id": "cell-45b8ed6438cea18a",
     "locked": true,
     "points": 1,
     "schema_version": 3,
     "solution": false,
     "task": false
    }
   },
   "outputs": [],
   "source": []
  },
  {
   "cell_type": "code",
   "execution_count": null,
   "metadata": {
    "deletable": false,
    "editable": false,
    "nbgrader": {
     "cell_type": "code",
     "checksum": "c1572621a6aa9421f25a703cc4a38b09",
     "grade": true,
     "grade_id": "cell-09c343ebe2826bb3",
     "locked": true,
     "points": 0,
     "schema_version": 3,
     "solution": false
    }
   },
   "outputs": [],
   "source": []
  },
  {
   "cell_type": "markdown",
   "metadata": {},
   "source": [
    "### Question 4b: Triple Letter Grade (2 points)\n",
    "\n",
    "An instructor at McMaster has grouped his students into three's. Each student gets marked individually to score an individual grade but at the end of the course, the instructor combines the grades to make a \"triple-letter-grade\".\n",
    "\n",
    "Write a function that takes three scores as arguments and returns the triple-letter-grade."
   ]
  },
  {
   "cell_type": "code",
   "execution_count": 81,
   "metadata": {
    "deletable": false,
    "nbgrader": {
     "cell_type": "code",
     "checksum": "d80159941c2143559f3945300d9453f0",
     "grade": false,
     "grade_id": "cell-78eb2a732d493790",
     "locked": false,
     "schema_version": 3,
     "solution": true,
     "task": false
    }
   },
   "outputs": [],
   "source": [
    "def tripleLetterGrade(student1,student2,student3):\n",
    "    ans=letterGrade(student1)+letterGrade(student2)+letterGrade(student3)\n",
    "    return ans\n",
    "\n",
    "    raise NotImplementedError()"
   ]
  },
  {
   "cell_type": "code",
   "execution_count": 82,
   "metadata": {},
   "outputs": [
    {
     "name": "stdout",
     "output_type": "stream",
     "text": [
      "#1 True\n",
      "#2 True\n",
      "#3 True\n"
     ]
    }
   ],
   "source": [
    "# Your Provided Sample Test Cases\n",
    "print(\"#1\", tripleLetterGrade(88,99,55) == 'BAD')\n",
    "print(\"#2\", tripleLetterGrade(45,96,88) == 'DAB')\n",
    "print(\"#3\", tripleLetterGrade(89,29,10) == 'BFF')"
   ]
  },
  {
   "cell_type": "code",
   "execution_count": null,
   "metadata": {
    "deletable": false,
    "editable": false,
    "nbgrader": {
     "cell_type": "code",
     "checksum": "d7b0c5bf266b3fee1625a0f0d3e5772d",
     "grade": true,
     "grade_id": "cell-539e198b48013cd5",
     "locked": true,
     "points": 2,
     "schema_version": 3,
     "solution": false,
     "task": false
    }
   },
   "outputs": [],
   "source": []
  },
  {
   "cell_type": "code",
   "execution_count": null,
   "metadata": {
    "deletable": false,
    "editable": false,
    "nbgrader": {
     "cell_type": "code",
     "checksum": "6d8a801134c72d2c8793fe77a8338a75",
     "grade": true,
     "grade_id": "cell-d951c8cab8d30039",
     "locked": true,
     "points": 0,
     "schema_version": 3,
     "solution": false,
     "task": false
    }
   },
   "outputs": [],
   "source": []
  },
  {
   "cell_type": "markdown",
   "metadata": {},
   "source": [
    "### Question 5: Snergle Population Tracking (4 points)\n",
    "\n",
    "Snergles are an invasive alien life form from the planet Grebulon.  If they are introduced to a region, they quickly explode in population because they have no natural preditors, because they taste like sweaty turnips.  \n",
    "\n",
    "A snergle will have 2 offspring in a week, except if there is a full moon that week.  In that case, they produce 3 offspring.  Snergles are born fully mature, and can reproduce immediately after being born.  \n",
    "\n",
    "Write a python function `snergle(n, w, m)`, that, given an initial snergle population `n`, the number of weeks to simulate `w`, and the number of weeks until the full moon, `m`, returns a tuple containing snergle populations throughout the proceeding weeks.  \n",
    "\n",
    "The initial sergle population is always greater than 0: `0 < n` .\n",
    "\n",
    "Keep in mind that `m`, which must be a number between 0 and 3, is decremented each week of the simulation.  If there is a full moon this week, `m` will equal zero, and in the next week there will be three weeks until the moon is full again.  "
   ]
  },
  {
   "cell_type": "code",
   "execution_count": 83,
   "metadata": {
    "deletable": false,
    "nbgrader": {
     "cell_type": "code",
     "checksum": "c83e05451917990e7cac11b1902a3c2b",
     "grade": false,
     "grade_id": "cell-3dbc8637c273e52c",
     "locked": false,
     "schema_version": 3,
     "solution": true,
     "task": false
    }
   },
   "outputs": [],
   "source": [
    "def snergle(n,w,m):\n",
    "    ans=[]\n",
    "    for i in range(w):\n",
    "        if(m==0):\n",
    "            n*=3\n",
    "            m=3\n",
    "        else:\n",
    "            n*=2\n",
    "            m-=1\n",
    "        ans=ans+[n]\n",
    "    ans=tuple(ans)\n",
    "    return ans\n",
    "\n",
    "    raise NotImplementedError()"
   ]
  },
  {
   "cell_type": "code",
   "execution_count": 84,
   "metadata": {},
   "outputs": [
    {
     "name": "stdout",
     "output_type": "stream",
     "text": [
      "#1 True\n",
      "#2 True\n"
     ]
    }
   ],
   "source": [
    "# Your Provided Sample Test Cases\n",
    "print(\"#1\", snergle(3,4,2) == (6,12,36,72))\n",
    "print(\"#2\", snergle(1,8,0) == (3, 6, 12, 24, 72, 144, 288, 576))"
   ]
  },
  {
   "cell_type": "code",
   "execution_count": null,
   "metadata": {
    "deletable": false,
    "editable": false,
    "nbgrader": {
     "cell_type": "code",
     "checksum": "4de08fdddac51050da59615aa83045f9",
     "grade": true,
     "grade_id": "cell-348410f25e1b2c16",
     "locked": true,
     "points": 1,
     "schema_version": 3,
     "solution": false,
     "task": false
    }
   },
   "outputs": [],
   "source": []
  },
  {
   "cell_type": "code",
   "execution_count": null,
   "metadata": {
    "deletable": false,
    "editable": false,
    "nbgrader": {
     "cell_type": "code",
     "checksum": "a0c5b8ba5711ccc29c0849d006d8341d",
     "grade": true,
     "grade_id": "cell-2bab41963f6e4076",
     "locked": true,
     "points": 2,
     "schema_version": 3,
     "solution": false,
     "task": false
    }
   },
   "outputs": [],
   "source": []
  },
  {
   "cell_type": "code",
   "execution_count": null,
   "metadata": {
    "deletable": false,
    "editable": false,
    "nbgrader": {
     "cell_type": "code",
     "checksum": "5d0674a5bb6deea73ad1033e3ec74557",
     "grade": true,
     "grade_id": "cell-651379237d613c9c",
     "locked": true,
     "points": 1,
     "schema_version": 3,
     "solution": false,
     "task": false
    }
   },
   "outputs": [],
   "source": []
  },
  {
   "cell_type": "markdown",
   "metadata": {},
   "source": [
    "### Question 6: Sum of Multiples (3 points)\n",
    "\n",
    "Write a function that finds the sum of all numbers up to (and including) N that are multiples of either x or y.\n",
    "\n",
    "e.g. For:\n",
    "$$N = 10$$ $$x = 2$$ $$y = 3$$ $$s = 2 + 3 + 4 + 6 + 8 + 9 + 10 = 42$$"
   ]
  },
  {
   "cell_type": "code",
   "execution_count": 85,
   "metadata": {
    "deletable": false,
    "nbgrader": {
     "cell_type": "code",
     "checksum": "23667cacd2eead813e7b5af491c277f5",
     "grade": false,
     "grade_id": "cell-ef35cfa0377b1e6a",
     "locked": false,
     "schema_version": 3,
     "solution": true
    }
   },
   "outputs": [],
   "source": [
    "def multipleSum(N, x, y):\n",
    "    s=0\n",
    "    for i in range(N):\n",
    "        if((i+1)%x==0 or (i+1)%y==0):\n",
    "            s+=i+1\n",
    "    return s\n",
    "\n",
    "    raise NotImplementedError()"
   ]
  },
  {
   "cell_type": "code",
   "execution_count": 86,
   "metadata": {},
   "outputs": [
    {
     "name": "stdout",
     "output_type": "stream",
     "text": [
      "#1 True\n",
      "#2 True\n",
      "#3 True\n"
     ]
    }
   ],
   "source": [
    "# Your Provided Sample Test Cases\n",
    "print(\"#1\", multipleSum(10, 2, 3) == 42)\n",
    "print(\"#2\", multipleSum(25,7,8) == 90)\n",
    "print(\"#3\", multipleSum(15,1,12) == 120)"
   ]
  },
  {
   "cell_type": "code",
   "execution_count": null,
   "metadata": {
    "deletable": false,
    "editable": false,
    "nbgrader": {
     "cell_type": "code",
     "checksum": "12ce3956db2968074bf8785cb6c34a0f",
     "grade": true,
     "grade_id": "cell-fc9c86a33e354d09",
     "locked": true,
     "points": 1,
     "schema_version": 3,
     "solution": false
    }
   },
   "outputs": [],
   "source": []
  },
  {
   "cell_type": "code",
   "execution_count": null,
   "metadata": {
    "deletable": false,
    "editable": false,
    "nbgrader": {
     "cell_type": "code",
     "checksum": "139d63da9983594220f40cebaa852d61",
     "grade": true,
     "grade_id": "cell-0910a2ecf87587dc",
     "locked": true,
     "points": 1,
     "schema_version": 3,
     "solution": false
    }
   },
   "outputs": [],
   "source": []
  },
  {
   "cell_type": "code",
   "execution_count": null,
   "metadata": {
    "deletable": false,
    "editable": false,
    "nbgrader": {
     "cell_type": "code",
     "checksum": "33becf27d5f3aa2765c94e0b357c986d",
     "grade": true,
     "grade_id": "cell-a1171496352a96a0",
     "locked": true,
     "points": 1,
     "schema_version": 3,
     "solution": false
    }
   },
   "outputs": [],
   "source": []
  },
  {
   "cell_type": "markdown",
   "metadata": {},
   "source": [
    "### Question 7: Forming Plural (3 points)\n",
    "\n",
    "Create a Python function `pluralize` that returns the plural of a word given the following rules:\n",
    " - If the word ends with `s` or `h`, add `es` to the end.\n",
    " - If the word ends with a `y`, change it to `ies` __unless if the letter before is a vowel__.\n",
    " - Otherwise, just add an `s` to the end of the word.\n",
    " \n",
    " You may assume that the last letter of the word is lowercase."
   ]
  },
  {
   "cell_type": "code",
   "execution_count": 87,
   "metadata": {
    "deletable": false,
    "nbgrader": {
     "cell_type": "code",
     "checksum": "7722a84c068113369b053464a6b1c0bc",
     "grade": false,
     "grade_id": "cell-625808a882a42a8a",
     "locked": false,
     "schema_version": 3,
     "solution": true
    }
   },
   "outputs": [],
   "source": [
    "def pluralize(w):\n",
    "    if(w[len(w)-1]=='s' or w[len(w)-1]=='h'):\n",
    "        w+=\"es\"\n",
    "    elif(w[len(w)-1]=='y' and not (w[len(w)-2]=='a' or w[len(w)-2]=='e' or w[len(w)-2]=='i' or w[len(w)-2]=='o' or w[len(w)-2]=='u')):\n",
    "        w=w[:len(w)-1]+\"ies\"\n",
    "    else:\n",
    "        w+='s'\n",
    "    ans=w\n",
    "    return ans\n",
    "    \n",
    "    raise NotImplementedError()"
   ]
  },
  {
   "cell_type": "code",
   "execution_count": 88,
   "metadata": {},
   "outputs": [
    {
     "name": "stdout",
     "output_type": "stream",
     "text": [
      "#1 True\n",
      "#2 True\n"
     ]
    }
   ],
   "source": [
    "# Your Provided Sample Test Cases\n",
    "print(\"#1\", pluralize(\"Noun\") == \"Nouns\")\n",
    "print(\"#2\", pluralize(\"key\") == \"keys\")"
   ]
  },
  {
   "cell_type": "code",
   "execution_count": null,
   "metadata": {
    "deletable": false,
    "editable": false,
    "nbgrader": {
     "cell_type": "code",
     "checksum": "cbacddf287a20a37cd9a0787c314b0b0",
     "grade": true,
     "grade_id": "cell-626fe4f2f444b001",
     "locked": true,
     "points": 1,
     "schema_version": 3,
     "solution": false
    }
   },
   "outputs": [],
   "source": []
  },
  {
   "cell_type": "code",
   "execution_count": null,
   "metadata": {
    "deletable": false,
    "editable": false,
    "nbgrader": {
     "cell_type": "code",
     "checksum": "b17cca262c64d98915acbc7f66569f96",
     "grade": true,
     "grade_id": "cell-e1aa4670a54133c9",
     "locked": true,
     "points": 1,
     "schema_version": 3,
     "solution": false
    }
   },
   "outputs": [],
   "source": []
  },
  {
   "cell_type": "code",
   "execution_count": null,
   "metadata": {
    "deletable": false,
    "editable": false,
    "nbgrader": {
     "cell_type": "code",
     "checksum": "7737d444474d6a7f3350778eb5186c17",
     "grade": true,
     "grade_id": "cell-8e5cf82594fef454",
     "locked": true,
     "points": 1,
     "schema_version": 3,
     "solution": false
    }
   },
   "outputs": [],
   "source": []
  },
  {
   "cell_type": "markdown",
   "metadata": {},
   "source": [
    "### Bonus: Boring Strings (4 points)\n",
    "\n",
    "We will say that a string is **boring** if the same sequence of three letters appears more than once in the string.  For example, the following string is boring:\n",
    "\n",
    "- `JONATHON LIKES PYTHON`\n",
    "\n",
    "But these strings are not boring:\n",
    "\n",
    "- `ALICE LIKES PYTHON`\n",
    "- `I HEAR THE ART`\n",
    "\n",
    "Write a program that determines if a given string is boring.  You can assume that the string only contains upper-case letters and spaces."
   ]
  },
  {
   "cell_type": "code",
   "execution_count": 89,
   "metadata": {
    "deletable": false,
    "nbgrader": {
     "cell_type": "code",
     "checksum": "5816172e43a1901775d32f4ea827f3da",
     "grade": false,
     "grade_id": "cell-5d58724de0b80e26",
     "locked": false,
     "schema_version": 3,
     "solution": true
    }
   },
   "outputs": [],
   "source": [
    "def boring(s):\n",
    "    ans=False\n",
    "    for i in range(len(s)-2):\n",
    "        bor=s[i]+s[i+1]+s[i+2]\n",
    "        for j in range(len(s)-3-i):\n",
    "            if(bor==s[j+1+i]+s[j+2+i]+s[j+3+i]):\n",
    "                ans=True\n",
    "    return ans\n",
    "    \n",
    "    raise NotImplementedError()"
   ]
  },
  {
   "cell_type": "code",
   "execution_count": 90,
   "metadata": {},
   "outputs": [
    {
     "name": "stdout",
     "output_type": "stream",
     "text": [
      "#1 True\n",
      "#2 True\n"
     ]
    }
   ],
   "source": [
    "# Your Provided Sample Test Cases\n",
    "print(\"#1\", boring('JONATHON LIKES PYTHON') == True)\n",
    "print(\"#2\", boring('ALICE LIKES PYTHON') == False)"
   ]
  },
  {
   "cell_type": "code",
   "execution_count": null,
   "metadata": {
    "deletable": false,
    "editable": false,
    "nbgrader": {
     "cell_type": "code",
     "checksum": "33ac7f022b27cf78f7a284d414d83782",
     "grade": true,
     "grade_id": "cell-5b5564301814b7b5",
     "locked": true,
     "points": 1,
     "schema_version": 3,
     "solution": false
    }
   },
   "outputs": [],
   "source": []
  },
  {
   "cell_type": "code",
   "execution_count": null,
   "metadata": {
    "deletable": false,
    "editable": false,
    "nbgrader": {
     "cell_type": "code",
     "checksum": "5cc45c3868e4154043c104ae35d93e7d",
     "grade": true,
     "grade_id": "cell-4de9bf67c5798d33",
     "locked": true,
     "points": 1,
     "schema_version": 3,
     "solution": false
    }
   },
   "outputs": [],
   "source": []
  },
  {
   "cell_type": "code",
   "execution_count": null,
   "metadata": {
    "deletable": false,
    "editable": false,
    "nbgrader": {
     "cell_type": "code",
     "checksum": "79bf11714aa94ca69ce8c7eb7710ff7e",
     "grade": true,
     "grade_id": "cell-97468c38e2eb253f",
     "locked": true,
     "points": 1,
     "schema_version": 3,
     "solution": false
    }
   },
   "outputs": [],
   "source": []
  },
  {
   "cell_type": "code",
   "execution_count": null,
   "metadata": {
    "deletable": false,
    "editable": false,
    "nbgrader": {
     "cell_type": "code",
     "checksum": "6ffe79a4d088a83118c95e796497ce18",
     "grade": true,
     "grade_id": "cell-8171e6a52fd77401",
     "locked": true,
     "points": 1,
     "schema_version": 3,
     "solution": false
    }
   },
   "outputs": [],
   "source": []
  }
 ],
 "metadata": {
  "kernelspec": {
   "display_name": "Python 3",
   "language": "python",
   "name": "python3"
  },
  "language_info": {
   "codemirror_mode": {
    "name": "ipython",
    "version": 3
   },
   "file_extension": ".py",
   "mimetype": "text/x-python",
   "name": "python",
   "nbconvert_exporter": "python",
   "pygments_lexer": "ipython3",
   "version": "3.8.5"
  }
 },
 "nbformat": 4,
 "nbformat_minor": 1
}
